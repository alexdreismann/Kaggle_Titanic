{
 "cells": [
  {
   "cell_type": "markdown",
   "metadata": {},
   "source": [
    "# 'Titanic' challenge from Kaggle using logistic regression\n",
    "\n",
    "For details, see my other notebook (using linear regression).\n",
    "\n",
    "### Steps\n",
    "* clean up data: transform relevant data to numerical, replace missinv values by median of training set (numerical) or most frequent value (binary, string)\n",
    "* maybe do some plotting of the data to get a feel\n",
    "* set up algorithm for logistic regression using sklearn\n",
    "* check how good algorithm works, compute accuracy, precision and recall this time\n",
    "* make predictions for test data set and create a submission file\n",
    "\n",
    "### Questions:\n",
    "* Why does it almost not matter which parameters I use?\n",
    "* How to interpret fitting coefficients?\n",
    "\n",
    "\n",
    "### Import libraries/modules:"
   ]
  },
  {
   "cell_type": "code",
   "execution_count": 1,
   "metadata": {
    "collapsed": true
   },
   "outputs": [],
   "source": [
    "import pandas as pd\n",
    "import numpy as np\n",
    "import matplotlib.pyplot as plt\n",
    "%matplotlib inline\n",
    "%matplotlib notebook"
   ]
  },
  {
   "cell_type": "markdown",
   "metadata": {},
   "source": [
    "### Import data sets and make a copy for further treatment:"
   ]
  },
  {
   "cell_type": "code",
   "execution_count": 2,
   "metadata": {
    "collapsed": true
   },
   "outputs": [],
   "source": [
    "titanic_train_original = pd.read_csv('train.csv')\n",
    "titanic_test_original = pd.read_csv('test.csv')\n",
    "titanic_train = titanic_train_original.copy()\n",
    "titanic_test = titanic_test_original.copy()"
   ]
  },
  {
   "cell_type": "markdown",
   "metadata": {},
   "source": [
    "### Clean up data:"
   ]
  },
  {
   "cell_type": "code",
   "execution_count": 3,
   "metadata": {
    "collapsed": true
   },
   "outputs": [],
   "source": [
    "titanic_train['Sex'].replace(['male','female'],[0,1],inplace=True)\n",
    "titanic_test['Sex'].replace(['male','female'],[0,1],inplace=True)\n",
    "titanic_train['Embarked'].replace(['S','C','Q'],[0,1,2],inplace=True)\n",
    "titanic_test['Embarked'].replace(['S','C','Q'],[0,1,2],inplace=True)\n",
    "\n",
    "# replace missing values in numerical columns with median of column\n",
    "titanic_train['Age'].fillna(titanic_train['Age'].median(),inplace=True)\n",
    "titanic_test['Age'].fillna(titanic_train['Age'].median(),inplace=True)\n",
    "titanic_test['Fare'].fillna(titanic_train['Fare'].median(),inplace=True)\n",
    "\n",
    "# replace missing values of train['Embarked']\n",
    "titanic_train['Embarked'].fillna(0,inplace=True)"
   ]
  },
  {
   "cell_type": "markdown",
   "metadata": {},
   "source": [
    "### Logistic regression using sklearn:\n",
    "\n",
    "Documentation for logistic regression: http://scikit-learn.org/stable/modules/generated/sklearn.linear_model.LogisticRegression.html\n",
    "\n",
    "Documentation for cross-validation: http://scikit-learn.org/stable/modules/cross_validation.html\n",
    "\n",
    "Documentation for 'cross_val_score': http://scikit-learn.org/stable/modules/generated/sklearn.cross_validation.cross_val_score.html#sklearn.cross_validation.cross_val_score\n",
    "\n",
    "Like in my other notebook on the 'Titanic' challenge, I will use 'sklearn' to do the regression and cross validation. Instead of manually indexing the data using kFolds, I will use the 'cross_validation' class of 'sklearn' this time. Doing so one does not need to do very much any more, just:\n",
    "* initiate logistic regression algorithm\n",
    "* pass algorithm ('estimator'), input and target data to 'cross_validation', also state how many kFolds should be tested\n",
    "* automatically obtain score, which - I think - by definition gives the accuracy. There are also options to obtain 'precision' and 'recall' (scoring ='accuracy' or ='precision', or ='recall'), however I do not know how to do all simultaneously. Another question is how exactly they are defined here, since they will not measure if the fit does EXACTLY match the data. Maybe via some confidence intervall.."
   ]
  },
  {
   "cell_type": "code",
   "execution_count": 42,
   "metadata": {
    "collapsed": false
   },
   "outputs": [
    {
     "name": "stdout",
     "output_type": "stream",
     "text": [
      "0.787878787879 0.750337544903 0.675438596491\n"
     ]
    }
   ],
   "source": [
    "# Import the linear regression class\n",
    "from sklearn.linear_model import LogisticRegression\n",
    "# Sklearn also has a helper that makes it easy to do cross validation\n",
    "from sklearn import cross_validation\n",
    "\n",
    "# define which columns of 'titanic_train' should be used for fit\n",
    "predictors = ['Pclass','Sex','Age','SibSp','Parch','Fare','Embarked']\n",
    "\n",
    "# initiate logistic regression algorithm\n",
    "LR = LogisticRegression()\n",
    "\n",
    "# Compute accuracy for 3 cross validation folds\n",
    "accuracy = cross_validation.cross_val_score(LR,titanic_train[predictors],titanic_train['Survived'],cv=3,scoring ='accuracy')\n",
    "precision = cross_validation.cross_val_score(LR,titanic_train[predictors],titanic_train['Survived'],cv=3,scoring ='precision')\n",
    "recall = cross_validation.cross_val_score(LR,titanic_train[predictors],titanic_train['Survived'],cv=3,scoring ='recall')\n",
    "accuracy = accuracy.mean()\n",
    "precision = precision.mean()\n",
    "recall = recall.mean()\n",
    "\n",
    "print (accuracy,precision,recall)"
   ]
  },
  {
   "cell_type": "markdown",
   "metadata": {},
   "source": [
    "'Accuracy' measures the fraction of the correct predictions, 'precision' how accurate positive our positive predictions were and 'recall' the fraction of positives the model identified. It is not quite clear to me how all of these are defined for continuous outcomes, but well... The numbers do not look to bad I would say.\n",
    "\n",
    "### Apply model to test data set\n",
    "\n",
    "Now use the whole data set to obtain a logistic fit. Then apply it to predict the survival of the 'test' data set."
   ]
  },
  {
   "cell_type": "code",
   "execution_count": 46,
   "metadata": {
    "collapsed": false
   },
   "outputs": [],
   "source": [
    "LR.fit(titanic_train[predictors],titanic_train['Survived'])\n",
    "predictions = LR.predict(titanic_test[predictors])\n",
    "\n",
    "# Normally I would have to map the predicitons on 0 and 1. However, it appears there are no intermediate values anyhow\n",
    "predictions[predictions < 0.5] = 0\n",
    "predictions[predictions >= 0.5] = 1"
   ]
  },
  {
   "cell_type": "markdown",
   "metadata": {},
   "source": [
    "### Generate submission file\n",
    "\n",
    "Should be '.csv' and only contain passanger ID and 'Survived'."
   ]
  },
  {
   "cell_type": "code",
   "execution_count": 47,
   "metadata": {
    "collapsed": true
   },
   "outputs": [],
   "source": [
    "# concatenate ID and prediction\n",
    "predictions = pd.DataFrame(predictions)\n",
    "submission = pd.concat([titanic_test['PassengerId'],predictions],axis=1)\n",
    "# label columns\n",
    "submission.columns = ['PassengerId','Survived']\n",
    "\n",
    "# export\n",
    "submission.to_csv('Titanic_submission.csv')"
   ]
  }
 ],
 "metadata": {
  "kernelspec": {
   "display_name": "Python 3",
   "language": "python",
   "name": "python3"
  },
  "language_info": {
   "codemirror_mode": {
    "name": "ipython",
    "version": 3
   },
   "file_extension": ".py",
   "mimetype": "text/x-python",
   "name": "python",
   "nbconvert_exporter": "python",
   "pygments_lexer": "ipython3",
   "version": "3.5.1"
  }
 },
 "nbformat": 4,
 "nbformat_minor": 0
}
